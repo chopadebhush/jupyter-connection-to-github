{
 "cells": [
  {
   "cell_type": "code",
   "execution_count": 1,
   "id": "4db5d99e",
   "metadata": {},
   "outputs": [
    {
     "name": "stdout",
     "output_type": "stream",
     "text": [
      "enter the key -->23\n",
      "not present\n"
     ]
    }
   ],
   "source": [
    "lst = [22,16,47,88]\n",
    "flag = False\n",
    "key = int(input(\"enter the key -->\"))\n",
    "for i in range(len(lst)):\n",
    "    if lst[i] == key:\n",
    "        flag = True\n",
    "        break\n",
    "if flag == True:\n",
    "    print(\"element is present in the list\")\n",
    "else:\n",
    "    print(\"not present\")"
   ]
  },
  {
   "cell_type": "code",
   "execution_count": 2,
   "id": "02d9ff7c",
   "metadata": {},
   "outputs": [
    {
     "name": "stdout",
     "output_type": "stream",
     "text": [
      "what's your name -->bhushan\n"
     ]
    }
   ],
   "source": [
    "names = []\n",
    "name = input(\"what's your name -->\")\n",
    "#append method\n",
    "names.append(name)"
   ]
  },
  {
   "cell_type": "code",
   "execution_count": null,
   "id": "48c21d5c",
   "metadata": {},
   "outputs": [],
   "source": []
  }
 ],
 "metadata": {
  "kernelspec": {
   "display_name": "Python 3 (ipykernel)",
   "language": "python",
   "name": "python3"
  },
  "language_info": {
   "codemirror_mode": {
    "name": "ipython",
    "version": 3
   },
   "file_extension": ".py",
   "mimetype": "text/x-python",
   "name": "python",
   "nbconvert_exporter": "python",
   "pygments_lexer": "ipython3",
   "version": "3.9.13"
  }
 },
 "nbformat": 4,
 "nbformat_minor": 5
}
